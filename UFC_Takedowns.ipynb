{
  "nbformat": 4,
  "nbformat_minor": 0,
  "metadata": {
    "colab": {
      "name": "UFC_Takedowns.ipynb",
      "provenance": [],
      "collapsed_sections": []
    },
    "kernelspec": {
      "name": "python3",
      "display_name": "Python 3"
    }
  },
  "cells": [
    {
      "cell_type": "code",
      "metadata": {
        "colab": {
          "resources": {
            "http://localhost:8080/nbextensions/google.colab/files.js": {
              "data": "Ly8gQ29weXJpZ2h0IDIwMTcgR29vZ2xlIExMQwovLwovLyBMaWNlbnNlZCB1bmRlciB0aGUgQXBhY2hlIExpY2Vuc2UsIFZlcnNpb24gMi4wICh0aGUgIkxpY2Vuc2UiKTsKLy8geW91IG1heSBub3QgdXNlIHRoaXMgZmlsZSBleGNlcHQgaW4gY29tcGxpYW5jZSB3aXRoIHRoZSBMaWNlbnNlLgovLyBZb3UgbWF5IG9idGFpbiBhIGNvcHkgb2YgdGhlIExpY2Vuc2UgYXQKLy8KLy8gICAgICBodHRwOi8vd3d3LmFwYWNoZS5vcmcvbGljZW5zZXMvTElDRU5TRS0yLjAKLy8KLy8gVW5sZXNzIHJlcXVpcmVkIGJ5IGFwcGxpY2FibGUgbGF3IG9yIGFncmVlZCB0byBpbiB3cml0aW5nLCBzb2Z0d2FyZQovLyBkaXN0cmlidXRlZCB1bmRlciB0aGUgTGljZW5zZSBpcyBkaXN0cmlidXRlZCBvbiBhbiAiQVMgSVMiIEJBU0lTLAovLyBXSVRIT1VUIFdBUlJBTlRJRVMgT1IgQ09ORElUSU9OUyBPRiBBTlkgS0lORCwgZWl0aGVyIGV4cHJlc3Mgb3IgaW1wbGllZC4KLy8gU2VlIHRoZSBMaWNlbnNlIGZvciB0aGUgc3BlY2lmaWMgbGFuZ3VhZ2UgZ292ZXJuaW5nIHBlcm1pc3Npb25zIGFuZAovLyBsaW1pdGF0aW9ucyB1bmRlciB0aGUgTGljZW5zZS4KCi8qKgogKiBAZmlsZW92ZXJ2aWV3IEhlbHBlcnMgZm9yIGdvb2dsZS5jb2xhYiBQeXRob24gbW9kdWxlLgogKi8KKGZ1bmN0aW9uKHNjb3BlKSB7CmZ1bmN0aW9uIHNwYW4odGV4dCwgc3R5bGVBdHRyaWJ1dGVzID0ge30pIHsKICBjb25zdCBlbGVtZW50ID0gZG9jdW1lbnQuY3JlYXRlRWxlbWVudCgnc3BhbicpOwogIGVsZW1lbnQudGV4dENvbnRlbnQgPSB0ZXh0OwogIGZvciAoY29uc3Qga2V5IG9mIE9iamVjdC5rZXlzKHN0eWxlQXR0cmlidXRlcykpIHsKICAgIGVsZW1lbnQuc3R5bGVba2V5XSA9IHN0eWxlQXR0cmlidXRlc1trZXldOwogIH0KICByZXR1cm4gZWxlbWVudDsKfQoKLy8gTWF4IG51bWJlciBvZiBieXRlcyB3aGljaCB3aWxsIGJlIHVwbG9hZGVkIGF0IGEgdGltZS4KY29uc3QgTUFYX1BBWUxPQURfU0laRSA9IDEwMCAqIDEwMjQ7CgpmdW5jdGlvbiBfdXBsb2FkRmlsZXMoaW5wdXRJZCwgb3V0cHV0SWQpIHsKICBjb25zdCBzdGVwcyA9IHVwbG9hZEZpbGVzU3RlcChpbnB1dElkLCBvdXRwdXRJZCk7CiAgY29uc3Qgb3V0cHV0RWxlbWVudCA9IGRvY3VtZW50LmdldEVsZW1lbnRCeUlkKG91dHB1dElkKTsKICAvLyBDYWNoZSBzdGVwcyBvbiB0aGUgb3V0cHV0RWxlbWVudCB0byBtYWtlIGl0IGF2YWlsYWJsZSBmb3IgdGhlIG5leHQgY2FsbAogIC8vIHRvIHVwbG9hZEZpbGVzQ29udGludWUgZnJvbSBQeXRob24uCiAgb3V0cHV0RWxlbWVudC5zdGVwcyA9IHN0ZXBzOwoKICByZXR1cm4gX3VwbG9hZEZpbGVzQ29udGludWUob3V0cHV0SWQpOwp9CgovLyBUaGlzIGlzIHJvdWdobHkgYW4gYXN5bmMgZ2VuZXJhdG9yIChub3Qgc3VwcG9ydGVkIGluIHRoZSBicm93c2VyIHlldCksCi8vIHdoZXJlIHRoZXJlIGFyZSBtdWx0aXBsZSBhc3luY2hyb25vdXMgc3RlcHMgYW5kIHRoZSBQeXRob24gc2lkZSBpcyBnb2luZwovLyB0byBwb2xsIGZvciBjb21wbGV0aW9uIG9mIGVhY2ggc3RlcC4KLy8gVGhpcyB1c2VzIGEgUHJvbWlzZSB0byBibG9jayB0aGUgcHl0aG9uIHNpZGUgb24gY29tcGxldGlvbiBvZiBlYWNoIHN0ZXAsCi8vIHRoZW4gcGFzc2VzIHRoZSByZXN1bHQgb2YgdGhlIHByZXZpb3VzIHN0ZXAgYXMgdGhlIGlucHV0IHRvIHRoZSBuZXh0IHN0ZXAuCmZ1bmN0aW9uIF91cGxvYWRGaWxlc0NvbnRpbnVlKG91dHB1dElkKSB7CiAgY29uc3Qgb3V0cHV0RWxlbWVudCA9IGRvY3VtZW50LmdldEVsZW1lbnRCeUlkKG91dHB1dElkKTsKICBjb25zdCBzdGVwcyA9IG91dHB1dEVsZW1lbnQuc3RlcHM7CgogIGNvbnN0IG5leHQgPSBzdGVwcy5uZXh0KG91dHB1dEVsZW1lbnQubGFzdFByb21pc2VWYWx1ZSk7CiAgcmV0dXJuIFByb21pc2UucmVzb2x2ZShuZXh0LnZhbHVlLnByb21pc2UpLnRoZW4oKHZhbHVlKSA9PiB7CiAgICAvLyBDYWNoZSB0aGUgbGFzdCBwcm9taXNlIHZhbHVlIHRvIG1ha2UgaXQgYXZhaWxhYmxlIHRvIHRoZSBuZXh0CiAgICAvLyBzdGVwIG9mIHRoZSBnZW5lcmF0b3IuCiAgICBvdXRwdXRFbGVtZW50Lmxhc3RQcm9taXNlVmFsdWUgPSB2YWx1ZTsKICAgIHJldHVybiBuZXh0LnZhbHVlLnJlc3BvbnNlOwogIH0pOwp9CgovKioKICogR2VuZXJhdG9yIGZ1bmN0aW9uIHdoaWNoIGlzIGNhbGxlZCBiZXR3ZWVuIGVhY2ggYXN5bmMgc3RlcCBvZiB0aGUgdXBsb2FkCiAqIHByb2Nlc3MuCiAqIEBwYXJhbSB7c3RyaW5nfSBpbnB1dElkIEVsZW1lbnQgSUQgb2YgdGhlIGlucHV0IGZpbGUgcGlja2VyIGVsZW1lbnQuCiAqIEBwYXJhbSB7c3RyaW5nfSBvdXRwdXRJZCBFbGVtZW50IElEIG9mIHRoZSBvdXRwdXQgZGlzcGxheS4KICogQHJldHVybiB7IUl0ZXJhYmxlPCFPYmplY3Q+fSBJdGVyYWJsZSBvZiBuZXh0IHN0ZXBzLgogKi8KZnVuY3Rpb24qIHVwbG9hZEZpbGVzU3RlcChpbnB1dElkLCBvdXRwdXRJZCkgewogIGNvbnN0IGlucHV0RWxlbWVudCA9IGRvY3VtZW50LmdldEVsZW1lbnRCeUlkKGlucHV0SWQpOwogIGlucHV0RWxlbWVudC5kaXNhYmxlZCA9IGZhbHNlOwoKICBjb25zdCBvdXRwdXRFbGVtZW50ID0gZG9jdW1lbnQuZ2V0RWxlbWVudEJ5SWQob3V0cHV0SWQpOwogIG91dHB1dEVsZW1lbnQuaW5uZXJIVE1MID0gJyc7CgogIGNvbnN0IHBpY2tlZFByb21pc2UgPSBuZXcgUHJvbWlzZSgocmVzb2x2ZSkgPT4gewogICAgaW5wdXRFbGVtZW50LmFkZEV2ZW50TGlzdGVuZXIoJ2NoYW5nZScsIChlKSA9PiB7CiAgICAgIHJlc29sdmUoZS50YXJnZXQuZmlsZXMpOwogICAgfSk7CiAgfSk7CgogIGNvbnN0IGNhbmNlbCA9IGRvY3VtZW50LmNyZWF0ZUVsZW1lbnQoJ2J1dHRvbicpOwogIGlucHV0RWxlbWVudC5wYXJlbnRFbGVtZW50LmFwcGVuZENoaWxkKGNhbmNlbCk7CiAgY2FuY2VsLnRleHRDb250ZW50ID0gJ0NhbmNlbCB1cGxvYWQnOwogIGNvbnN0IGNhbmNlbFByb21pc2UgPSBuZXcgUHJvbWlzZSgocmVzb2x2ZSkgPT4gewogICAgY2FuY2VsLm9uY2xpY2sgPSAoKSA9PiB7CiAgICAgIHJlc29sdmUobnVsbCk7CiAgICB9OwogIH0pOwoKICAvLyBXYWl0IGZvciB0aGUgdXNlciB0byBwaWNrIHRoZSBmaWxlcy4KICBjb25zdCBmaWxlcyA9IHlpZWxkIHsKICAgIHByb21pc2U6IFByb21pc2UucmFjZShbcGlja2VkUHJvbWlzZSwgY2FuY2VsUHJvbWlzZV0pLAogICAgcmVzcG9uc2U6IHsKICAgICAgYWN0aW9uOiAnc3RhcnRpbmcnLAogICAgfQogIH07CgogIGNhbmNlbC5yZW1vdmUoKTsKCiAgLy8gRGlzYWJsZSB0aGUgaW5wdXQgZWxlbWVudCBzaW5jZSBmdXJ0aGVyIHBpY2tzIGFyZSBub3QgYWxsb3dlZC4KICBpbnB1dEVsZW1lbnQuZGlzYWJsZWQgPSB0cnVlOwoKICBpZiAoIWZpbGVzKSB7CiAgICByZXR1cm4gewogICAgICByZXNwb25zZTogewogICAgICAgIGFjdGlvbjogJ2NvbXBsZXRlJywKICAgICAgfQogICAgfTsKICB9CgogIGZvciAoY29uc3QgZmlsZSBvZiBmaWxlcykgewogICAgY29uc3QgbGkgPSBkb2N1bWVudC5jcmVhdGVFbGVtZW50KCdsaScpOwogICAgbGkuYXBwZW5kKHNwYW4oZmlsZS5uYW1lLCB7Zm9udFdlaWdodDogJ2JvbGQnfSkpOwogICAgbGkuYXBwZW5kKHNwYW4oCiAgICAgICAgYCgke2ZpbGUudHlwZSB8fCAnbi9hJ30pIC0gJHtmaWxlLnNpemV9IGJ5dGVzLCBgICsKICAgICAgICBgbGFzdCBtb2RpZmllZDogJHsKICAgICAgICAgICAgZmlsZS5sYXN0TW9kaWZpZWREYXRlID8gZmlsZS5sYXN0TW9kaWZpZWREYXRlLnRvTG9jYWxlRGF0ZVN0cmluZygpIDoKICAgICAgICAgICAgICAgICAgICAgICAgICAgICAgICAgICAgJ24vYSd9IC0gYCkpOwogICAgY29uc3QgcGVyY2VudCA9IHNwYW4oJzAlIGRvbmUnKTsKICAgIGxpLmFwcGVuZENoaWxkKHBlcmNlbnQpOwoKICAgIG91dHB1dEVsZW1lbnQuYXBwZW5kQ2hpbGQobGkpOwoKICAgIGNvbnN0IGZpbGVEYXRhUHJvbWlzZSA9IG5ldyBQcm9taXNlKChyZXNvbHZlKSA9PiB7CiAgICAgIGNvbnN0IHJlYWRlciA9IG5ldyBGaWxlUmVhZGVyKCk7CiAgICAgIHJlYWRlci5vbmxvYWQgPSAoZSkgPT4gewogICAgICAgIHJlc29sdmUoZS50YXJnZXQucmVzdWx0KTsKICAgICAgfTsKICAgICAgcmVhZGVyLnJlYWRBc0FycmF5QnVmZmVyKGZpbGUpOwogICAgfSk7CiAgICAvLyBXYWl0IGZvciB0aGUgZGF0YSB0byBiZSByZWFkeS4KICAgIGxldCBmaWxlRGF0YSA9IHlpZWxkIHsKICAgICAgcHJvbWlzZTogZmlsZURhdGFQcm9taXNlLAogICAgICByZXNwb25zZTogewogICAgICAgIGFjdGlvbjogJ2NvbnRpbnVlJywKICAgICAgfQogICAgfTsKCiAgICAvLyBVc2UgYSBjaHVua2VkIHNlbmRpbmcgdG8gYXZvaWQgbWVzc2FnZSBzaXplIGxpbWl0cy4gU2VlIGIvNjIxMTU2NjAuCiAgICBsZXQgcG9zaXRpb24gPSAwOwogICAgd2hpbGUgKHBvc2l0aW9uIDwgZmlsZURhdGEuYnl0ZUxlbmd0aCkgewogICAgICBjb25zdCBsZW5ndGggPSBNYXRoLm1pbihmaWxlRGF0YS5ieXRlTGVuZ3RoIC0gcG9zaXRpb24sIE1BWF9QQVlMT0FEX1NJWkUpOwogICAgICBjb25zdCBjaHVuayA9IG5ldyBVaW50OEFycmF5KGZpbGVEYXRhLCBwb3NpdGlvbiwgbGVuZ3RoKTsKICAgICAgcG9zaXRpb24gKz0gbGVuZ3RoOwoKICAgICAgY29uc3QgYmFzZTY0ID0gYnRvYShTdHJpbmcuZnJvbUNoYXJDb2RlLmFwcGx5KG51bGwsIGNodW5rKSk7CiAgICAgIHlpZWxkIHsKICAgICAgICByZXNwb25zZTogewogICAgICAgICAgYWN0aW9uOiAnYXBwZW5kJywKICAgICAgICAgIGZpbGU6IGZpbGUubmFtZSwKICAgICAgICAgIGRhdGE6IGJhc2U2NCwKICAgICAgICB9LAogICAgICB9OwogICAgICBwZXJjZW50LnRleHRDb250ZW50ID0KICAgICAgICAgIGAke01hdGgucm91bmQoKHBvc2l0aW9uIC8gZmlsZURhdGEuYnl0ZUxlbmd0aCkgKiAxMDApfSUgZG9uZWA7CiAgICB9CiAgfQoKICAvLyBBbGwgZG9uZS4KICB5aWVsZCB7CiAgICByZXNwb25zZTogewogICAgICBhY3Rpb246ICdjb21wbGV0ZScsCiAgICB9CiAgfTsKfQoKc2NvcGUuZ29vZ2xlID0gc2NvcGUuZ29vZ2xlIHx8IHt9OwpzY29wZS5nb29nbGUuY29sYWIgPSBzY29wZS5nb29nbGUuY29sYWIgfHwge307CnNjb3BlLmdvb2dsZS5jb2xhYi5fZmlsZXMgPSB7CiAgX3VwbG9hZEZpbGVzLAogIF91cGxvYWRGaWxlc0NvbnRpbnVlLAp9Owp9KShzZWxmKTsK",
              "ok": true,
              "headers": [
                [
                  "content-type",
                  "application/javascript"
                ]
              ],
              "status": 200,
              "status_text": ""
            }
          },
          "base_uri": "https://localhost:8080/",
          "height": 72
        },
        "id": "Wwp-o0MQ2nCd",
        "outputId": "2a9bef27-186d-4c5c-8e83-74de996050c1"
      },
      "source": [
        "from google.colab import files \r\n",
        "  \r\n",
        "uploaded = files.upload()"
      ],
      "execution_count": null,
      "outputs": [
        {
          "output_type": "display_data",
          "data": {
            "text/html": [
              "\n",
              "     <input type=\"file\" id=\"files-371103b8-db62-4afd-965f-f6d72e8bc0b4\" name=\"files[]\" multiple disabled\n",
              "        style=\"border:none\" />\n",
              "     <output id=\"result-371103b8-db62-4afd-965f-f6d72e8bc0b4\">\n",
              "      Upload widget is only available when the cell has been executed in the\n",
              "      current browser session. Please rerun this cell to enable.\n",
              "      </output>\n",
              "      <script src=\"/nbextensions/google.colab/files.js\"></script> "
            ],
            "text/plain": [
              "<IPython.core.display.HTML object>"
            ]
          },
          "metadata": {
            "tags": []
          }
        },
        {
          "output_type": "stream",
          "text": [
            "Saving UFC_Wins.csv to UFC_Wins.csv\n"
          ],
          "name": "stdout"
        }
      ]
    },
    {
      "cell_type": "code",
      "metadata": {
        "id": "sqotuWR6Pxv_"
      },
      "source": [
        ""
      ],
      "execution_count": null,
      "outputs": []
    },
    {
      "cell_type": "code",
      "metadata": {
        "id": "GhBVHirO2rck",
        "colab": {
          "base_uri": "https://localhost:8080/"
        },
        "outputId": "caaa8a6a-bade-4962-e2d1-178e0e66f49b"
      },
      "source": [
        "import matplotlib.pyplot as plt\r\n",
        "from sklearn.datasets import make_blobs\r\n",
        "from matplotlib import pyplot\r\n",
        "from pandas import DataFrame\r\n",
        "from mlxtend.plotting import plot_decision_regions\r\n",
        "from sklearn.linear_model import LogisticRegression\r\n",
        "from sklearn import linear_model\r\n",
        "from sklearn.datasets import load_breast_cancer\r\n",
        "from sklearn.model_selection import train_test_split\r\n",
        "from sklearn.neighbors import KNeighborsClassifier\r\n",
        "from sklearn.metrics import mean_absolute_error\r\n",
        "from sklearn import tree\r\n",
        "from IPython.display import Image\r\n",
        "import pandas as pd\r\n",
        "import numpy as np\r\n",
        "import math\r\n",
        "import itertools\r\n",
        "import statsmodels.formula.api as smf\r\n",
        "import statsmodels.api as sm\r\n",
        "import pydotplus\r\n",
        "import graphviz\r\n",
        "from sklearn.preprocessing import StandardScaler\r\n",
        "from statsmodels.tools.eval_measures import mse, rmse\r\n",
        "from scipy import stats\r\n",
        "import scipy\r\n",
        "import io\r\n",
        "from sklearn.model_selection import cross_val_score\r\n",
        "from scipy.stats.mstats import winsorize\r\n",
        "from sklearn.svm import SVC\r\n",
        "from sklearn import ensemble\r\n",
        "from sklearn.svm import SVR\r\n",
        "from sklearn.metrics import  classification_report, confusion_matrix\r\n",
        "from sklearn.metrics import accuracy_score, precision_score, recall_score, f1_score, fbeta_score, classification_report\r\n",
        "from sklearn.metrics import roc_curve, precision_recall_curve, roc_auc_score\r\n",
        "%matplotlib inline\r\n",
        "\r\n",
        "ufc_wins = pd.read_csv(io.BytesIO(uploaded['UFC_Wins.csv'])) "
      ],
      "execution_count": null,
      "outputs": [
        {
          "output_type": "stream",
          "text": [
            "/usr/local/lib/python3.6/dist-packages/statsmodels/tools/_testing.py:19: FutureWarning: pandas.util.testing is deprecated. Use the functions in the public API at pandas.testing instead.\n",
            "  import pandas.util.testing as tm\n"
          ],
          "name": "stderr"
        }
      ]
    },
    {
      "cell_type": "code",
      "metadata": {
        "colab": {
          "base_uri": "https://localhost:8080/"
        },
        "id": "ocKI4WiHcea5",
        "outputId": "bdef5891-7268-4db8-aed1-48f89040ae2d"
      },
      "source": [
        "ufc_wins.info()"
      ],
      "execution_count": null,
      "outputs": [
        {
          "output_type": "stream",
          "text": [
            "<class 'pandas.core.frame.DataFrame'>\n",
            "RangeIndex: 8241 entries, 0 to 8240\n",
            "Data columns (total 78 columns):\n",
            " #   Column                      Non-Null Count  Dtype  \n",
            "---  ------                      --------------  -----  \n",
            " 0   Fighter                     8241 non-null   object \n",
            " 1   Win_Lose                    8241 non-null   object \n",
            " 2   Referee                     8206 non-null   object \n",
            " 3   date                        8241 non-null   object \n",
            " 4   location                    8241 non-null   object \n",
            " 5   Winner                      8241 non-null   object \n",
            " 6   title_bout                  8241 non-null   bool   \n",
            " 7   weight_class                8241 non-null   object \n",
            " 8   no_of_rounds                8241 non-null   int64  \n",
            " 9   current_lose_streak         8241 non-null   int64  \n",
            " 10  current_streak              8241 non-null   int64  \n",
            " 11  draw                        8241 non-null   int64  \n",
            " 12  avg_BODY_att                8241 non-null   float64\n",
            " 13  avg_BODY_landed             8241 non-null   float64\n",
            " 14  avg_CLINCH_att              8241 non-null   float64\n",
            " 15  avg_CLINCH_landed           8241 non-null   float64\n",
            " 16  avg_DISTANCE_att            8241 non-null   float64\n",
            " 17  avg_DISTANCE_landed         8241 non-null   float64\n",
            " 18  avg_GROUND_att              8241 non-null   float64\n",
            " 19  avg_GROUND_landed           8241 non-null   float64\n",
            " 20  avg_HEAD_att                8241 non-null   float64\n",
            " 21  avg_HEAD_landed             8241 non-null   float64\n",
            " 22  avg_KD                      8241 non-null   float64\n",
            " 23  avg_LEG_att                 8241 non-null   float64\n",
            " 24  avg_LEG_landed              8241 non-null   float64\n",
            " 25  avg_PASS                    8241 non-null   float64\n",
            " 26  avg_REV                     8241 non-null   float64\n",
            " 27  avg_SIG_STR__att            8241 non-null   float64\n",
            " 28  avg_SIG_STR__landed         8241 non-null   float64\n",
            " 29  avg_SIG_STR__pct            8241 non-null   float64\n",
            " 30  avg_SUB_ATT                 8241 non-null   float64\n",
            " 31  avg_TD_att                  8241 non-null   float64\n",
            " 32  avg_TD_landed               8241 non-null   float64\n",
            " 33  avg_TD_pct                  8241 non-null   float64\n",
            " 34  avg_TOTAL_STR__att          8241 non-null   float64\n",
            " 35  avg_TOTAL_STR__landed       8241 non-null   float64\n",
            " 36  longest_streak              8241 non-null   int64  \n",
            " 37  losses                      8241 non-null   int64  \n",
            " 38  avg_opp_BODY_att            8241 non-null   float64\n",
            " 39  avg_opp_BODY_landed         8241 non-null   float64\n",
            " 40  avg_opp_CLINCH_att          8241 non-null   float64\n",
            " 41  avg_opp_CLINCH_landed       8241 non-null   float64\n",
            " 42  avg_opp_DISTANCE_att        8241 non-null   float64\n",
            " 43  avg_opp_DISTANCE_landed     8241 non-null   float64\n",
            " 44  avg_opp_GROUND_att          8241 non-null   float64\n",
            " 45  avg_opp_GROUND_landed       8241 non-null   float64\n",
            " 46  avg_opp_HEAD_att            8241 non-null   float64\n",
            " 47  avg_opp_HEAD_landed         8241 non-null   float64\n",
            " 48  avg_opp_KD                  8241 non-null   float64\n",
            " 49  avg_opp_LEG_att             8241 non-null   float64\n",
            " 50  avg_opp_LEG_landed          8241 non-null   float64\n",
            " 51  avg_opp_PASS                8241 non-null   float64\n",
            " 52  avg_opp_REV                 8241 non-null   float64\n",
            " 53  avg_opp_SIG_STR__att        8241 non-null   float64\n",
            " 54  avg_opp_SIG_STR__landed     8241 non-null   float64\n",
            " 55  avg_opp_SIG_STR__pct        8241 non-null   float64\n",
            " 56  avg_opp_SUB_ATT             8241 non-null   float64\n",
            " 57  avg_opp_TD_att              8241 non-null   float64\n",
            " 58  avg_opp_TD_landed           8241 non-null   float64\n",
            " 59  avg_opp_TD_pct              8241 non-null   float64\n",
            " 60  avg_opp_TOTAL_STR__att      8241 non-null   float64\n",
            " 61  avg_opp_TOTAL_STR__landed   8241 non-null   float64\n",
            " 62  total_rounds_fought         8241 non-null   int64  \n",
            " 63  total_time_fought(seconds)  8241 non-null   float64\n",
            " 64  total_title_bouts           8241 non-null   int64  \n",
            " 65  by_Decision_Majority        8241 non-null   int64  \n",
            " 66  by_Decision_Split           8241 non-null   int64  \n",
            " 67  by_Decision_Unanimous       8241 non-null   int64  \n",
            " 68  by_KO/TKO                   8241 non-null   int64  \n",
            " 69  by_Submission               8241 non-null   int64  \n",
            " 70  by_TKO_Doctor_Stoppage      8241 non-null   int64  \n",
            " 71  wins                        8241 non-null   int64  \n",
            " 72  Stance                      8074 non-null   object \n",
            " 73  Height_cms                  8240 non-null   float64\n",
            " 74  Reach_cms                   7751 non-null   float64\n",
            " 75  Weight_lbs                  8241 non-null   int64  \n",
            " 76  age                         8146 non-null   float64\n",
            " 77  is_winner                   8241 non-null   uint8  \n",
            "dtypes: bool(1), float64(52), int64(16), object(8), uint8(1)\n",
            "memory usage: 4.8+ MB\n"
          ],
          "name": "stdout"
        }
      ]
    },
    {
      "cell_type": "markdown",
      "metadata": {
        "id": "POCaS39wcjpu"
      },
      "source": [
        "The ufc_wins database contains a list of winners and losers from all UFC fights from 1993-2019. I would like to investigate what type of shots landed contributed the most to winning a fight and investigate the number of attempted (att) shots vs the number landed. This information will help coaches and fighter find an ideal mix for that type of shot. \r\n",
        "\r\n",
        "I predict that takedowns are the most relevant because wrestling is known to be the most dominant type of combat skill in Mixed Martial Arts and wrestlers excel the most at landing takedowns.\r\n",
        "\r\n",
        "Each landed, att and pct variable is an average per round."
      ]
    },
    {
      "cell_type": "code",
      "metadata": {
        "id": "Nrqya6gN6xwT"
      },
      "source": [
        "ufc_wins['is_winner'] = pd.get_dummies(ufc_wins.Win_Lose, drop_first=True)"
      ],
      "execution_count": null,
      "outputs": []
    },
    {
      "cell_type": "markdown",
      "metadata": {
        "id": "UyYaVMkdKivX"
      },
      "source": [
        "Create dummy variables for wins vs losses."
      ]
    },
    {
      "cell_type": "code",
      "metadata": {
        "id": "Ufu8ByP28cTI"
      },
      "source": [
        "landed = ufc_wins.drop(['Fighter', 'Win_Lose', 'Referee', 'date', 'location', 'Winner',\r\n",
        "       'title_bout', 'weight_class', 'no_of_rounds', 'current_lose_streak',\r\n",
        "       'current_streak', 'draw', 'avg_BODY_att',\r\n",
        "       'avg_CLINCH_att', 'avg_DISTANCE_att',\r\n",
        "       'avg_GROUND_att',\r\n",
        "       'avg_HEAD_att', 'avg_KD', 'avg_LEG_att',\r\n",
        "       'avg_PASS', 'avg_REV', 'avg_SIG_STR__att',\r\n",
        "       'avg_SIG_STR__pct', 'avg_SUB_ATT', 'avg_TD_att',\r\n",
        "       'avg_TD_pct', 'avg_TOTAL_STR__att',\r\n",
        "        'longest_streak', 'losses', 'avg_opp_BODY_att',\r\n",
        "       'avg_opp_BODY_landed', 'avg_opp_CLINCH_att', 'avg_opp_CLINCH_landed',\r\n",
        "       'avg_opp_DISTANCE_att', 'avg_opp_DISTANCE_landed', 'avg_opp_GROUND_att',\r\n",
        "       'avg_opp_GROUND_landed', 'avg_opp_HEAD_att', 'avg_opp_HEAD_landed',\r\n",
        "       'avg_opp_KD', 'avg_opp_LEG_att', 'avg_opp_LEG_landed', 'avg_opp_PASS',\r\n",
        "       'avg_opp_REV', 'avg_opp_SIG_STR__att', 'avg_opp_SIG_STR__landed',\r\n",
        "       'avg_opp_SIG_STR__pct', 'avg_opp_SUB_ATT', 'avg_opp_TD_att',\r\n",
        "       'avg_opp_TD_landed', 'avg_opp_TD_pct', 'avg_opp_TOTAL_STR__att',\r\n",
        "       'avg_opp_TOTAL_STR__landed', 'total_rounds_fought',\r\n",
        "       'total_time_fought(seconds)', 'total_title_bouts',\r\n",
        "       'by_Decision_Majority', 'by_Decision_Split', 'by_Decision_Unanimous',\r\n",
        "       'by_KO/TKO', 'by_Submission', 'by_TKO_Doctor_Stoppage', 'wins',\r\n",
        "       'Stance', 'Height_cms', 'Reach_cms', 'Weight_lbs', 'age'], axis=1)"
      ],
      "execution_count": null,
      "outputs": []
    },
    {
      "cell_type": "markdown",
      "metadata": {
        "id": "iG2M0ADnYOYk"
      },
      "source": [
        "Drop all variables other than shots landed to create dataframe to look at correlation to is_winner."
      ]
    },
    {
      "cell_type": "code",
      "metadata": {
        "colab": {
          "base_uri": "https://localhost:8080/",
          "height": 607
        },
        "id": "bzi0sQlJFaqa",
        "outputId": "3f020d5d-074a-4c3e-bdff-d823c6455e6e"
      },
      "source": [
        "plt.figure(figsize=(10,10))\r\n",
        "\r\n",
        "plt.subplot(3,3,1)\r\n",
        "plt.boxplot(landed['avg_TD_landed'])\r\n",
        "plt.title('Takedowns Landed')\r\n",
        "\r\n",
        "plt.subplot(3,3,2)\r\n",
        "plt.boxplot(landed['avg_GROUND_landed'])\r\n",
        "plt.title('Ground Landed')\r\n",
        "\r\n",
        "plt.subplot(3,3,3)\r\n",
        "plt.boxplot(landed['avg_HEAD_landed'])\r\n",
        "plt.title('Head Landed')\r\n",
        "\r\n",
        "plt.subplot(3,3,4)\r\n",
        "plt.boxplot(landed['avg_SIG_STR__landed'])\r\n",
        "plt.title('Significant Strikes Landed')\r\n",
        "\r\n",
        "plt.subplot(3,3,5)\r\n",
        "plt.boxplot(landed['avg_TOTAL_STR__landed'])\r\n",
        "plt.title('Total Strikes Landed')\r\n",
        "\r\n",
        "plt.subplot(3,3,6)\r\n",
        "plt.boxplot(landed['avg_DISTANCE_landed'])\r\n",
        "plt.title('Distance Landed')\r\n",
        "\r\n",
        "plt.subplot(3,3,7)\r\n",
        "plt.boxplot(landed['avg_BODY_landed'])\r\n",
        "plt.title('Body Landed')\r\n",
        "\r\n",
        "plt.subplot(3,3,8)\r\n",
        "plt.boxplot(landed['avg_CLINCH_landed'])\r\n",
        "plt.title('Clinch Landed')\r\n",
        "\r\n",
        "plt.subplot(3,3,9)\r\n",
        "plt.boxplot(landed['avg_LEG_landed'])\r\n",
        "plt.title('Leg Landed')\r\n",
        "\r\n",
        "plt.show()"
      ],
      "execution_count": null,
      "outputs": [
        {
          "output_type": "display_data",
          "data": {
            "image/png": "[encoded data removed]",
            "text/plain": [
              "<Figure size 720x720 with 9 Axes>"
            ]
          },
          "metadata": {
            "tags": [],
            "needs_background": "light"
          }
        }
      ]
    },
    {
      "cell_type": "code",
      "metadata": {
        "id": "npXo1x7-J1zQ"
      },
      "source": [
        "landed['winsorize_avg_TD_landed'] = winsorize(landed['avg_TD_landed'], (0, 0.04))\r\n",
        "landed['winsorize_avg_GROUND_landed'] = winsorize(landed['avg_GROUND_landed'], (0, 0.05))\r\n",
        "landed['winsorize_avg_HEAD_landed'] = winsorize(landed['avg_HEAD_landed'], (0, 0.04))\r\n",
        "landed['winsorize_avg_SIG_STR__landed'] = winsorize(landed['avg_SIG_STR__landed'], (0, 0.03))\r\n",
        "landed['winsorize_avg_TOTAL_STR__landed'] = winsorize(landed['avg_TOTAL_STR__landed'], (0, 0.03))\r\n",
        "landed['winsorize_avg_DISTANCE_landed'] = winsorize(landed['avg_DISTANCE_landed'], (0, 0.03))\r\n",
        "landed['winsorize_avg_BODY_landed'] = winsorize(landed['avg_BODY_landed'], (0, 0.04))\r\n",
        "landed['winsorize_avg_CLINCH_landed'] = winsorize(landed['avg_CLINCH_landed'], (0, 0.05))\r\n",
        "landed['winsorize_avg_LEG_landed'] = winsorize(landed['avg_LEG_landed'], (0, 0.04))"
      ],
      "execution_count": null,
      "outputs": []
    },
    {
      "cell_type": "markdown",
      "metadata": {
        "id": "cbKgiEHCX20l"
      },
      "source": [
        "Winsorize landed variables to remove outliers."
      ]
    },
    {
      "cell_type": "code",
      "metadata": {
        "colab": {
          "base_uri": "https://localhost:8080/",
          "height": 607
        },
        "id": "K3c7olAgK-KX",
        "outputId": "5e8cb786-208d-4da7-c8a9-1af1155579e3"
      },
      "source": [
        "plt.figure(figsize=(10,10))\r\n",
        "\r\n",
        "plt.subplot(3,3,1)\r\n",
        "plt.boxplot(landed['winsorize_avg_TD_landed'])\r\n",
        "plt.title('Takedowns Landed Winsorized')\r\n",
        "\r\n",
        "plt.subplot(3,3,2)\r\n",
        "plt.boxplot(landed['winsorize_avg_GROUND_landed'])\r\n",
        "plt.title('Ground Landed Winsorized')\r\n",
        "\r\n",
        "plt.subplot(3,3,3)\r\n",
        "plt.boxplot(landed['winsorize_avg_HEAD_landed'])\r\n",
        "plt.title('Head Landed Winsorized')\r\n",
        "\r\n",
        "plt.subplot(3,3,4)\r\n",
        "plt.boxplot(landed['winsorize_avg_SIG_STR__landed'])\r\n",
        "plt.title('Significant Strikes Landed Winsorized')\r\n",
        "\r\n",
        "plt.subplot(3,3,5)\r\n",
        "plt.boxplot(landed['winsorize_avg_TOTAL_STR__landed'])\r\n",
        "plt.title('Total Strikes Landed Winsorized')\r\n",
        "\r\n",
        "plt.subplot(3,3,6)\r\n",
        "plt.boxplot(landed['winsorize_avg_DISTANCE_landed'])\r\n",
        "plt.title('Distance Landed Winsorized')\r\n",
        "\r\n",
        "plt.subplot(3,3,7)\r\n",
        "plt.boxplot(landed['winsorize_avg_BODY_landed'])\r\n",
        "plt.title('Body Landed Winsorized')\r\n",
        "\r\n",
        "plt.subplot(3,3,8)\r\n",
        "plt.boxplot(landed['winsorize_avg_CLINCH_landed'])\r\n",
        "plt.title('Clinch Landed Winsorized')\r\n",
        "\r\n",
        "plt.subplot(3,3,9)\r\n",
        "plt.boxplot(landed['winsorize_avg_LEG_landed'])\r\n",
        "plt.title('Leg Landed Winsorized')\r\n",
        "\r\n",
        "plt.show()"
      ],
      "execution_count": null,
      "outputs": [
        {
          "output_type": "display_data",
          "data": {
            "image/png": "[encoded data removed]",
            "text/plain": [
              "<Figure size 720x720 with 9 Axes>"
            ]
          },
          "metadata": {
            "tags": [],
            "needs_background": "light"
          }
        }
      ]
    },
    {
      "cell_type": "code",
      "metadata": {
        "colab": {
          "base_uri": "https://localhost:8080/"
        },
        "id": "a0B-_we09WcR",
        "outputId": "b16074e9-e70f-43a6-81c3-3a018771456b"
      },
      "source": [
        "landed.corr().is_winner.sort_values(ascending=False)"
      ],
      "execution_count": null,
      "outputs": [
        {
          "output_type": "execute_result",
          "data": {
            "text/plain": [
              "is_winner                          1.000000\n",
              "avg_TD_landed                      0.072816\n",
              "winsorize_avg_TD_landed            0.071085\n",
              "avg_GROUND_landed                  0.066850\n",
              "winsorize_avg_GROUND_landed        0.066606\n",
              "winsorize_avg_HEAD_landed          0.052830\n",
              "avg_HEAD_landed                    0.049549\n",
              "winsorize_avg_SIG_STR__landed      0.047352\n",
              "avg_SIG_STR__landed                0.043071\n",
              "winsorize_avg_TOTAL_STR__landed    0.034708\n",
              "avg_TOTAL_STR__landed              0.029647\n",
              "winsorize_avg_DISTANCE_landed      0.022721\n",
              "winsorize_avg_LEG_landed           0.021344\n",
              "winsorize_avg_BODY_landed          0.021140\n",
              "avg_DISTANCE_landed                0.020512\n",
              "avg_BODY_landed                    0.020066\n",
              "winsorize_avg_CLINCH_landed        0.013938\n",
              "avg_CLINCH_landed                  0.013100\n",
              "avg_LEG_landed                     0.013086\n",
              "Name: is_winner, dtype: float64"
            ]
          },
          "metadata": {
            "tags": []
          },
          "execution_count": 183
        }
      ]
    },
    {
      "cell_type": "markdown",
      "metadata": {
        "id": "frourO6wKqW5"
      },
      "source": [
        "Looking at all landed shots, takedowns are the highest correlated variable in terms of winning a fight. This exercise will only explore that mix of attempted vs. landed takedowns that best lead to a win."
      ]
    },
    {
      "cell_type": "code",
      "metadata": {
        "id": "6jzou9HsAVtJ"
      },
      "source": [
        "takedowns = ufc_wins.drop(['Fighter', 'Win_Lose', 'Referee', 'date', 'location', 'Winner',\r\n",
        "       'title_bout', 'weight_class', 'no_of_rounds', 'current_lose_streak',\r\n",
        "       'current_streak', 'draw', 'avg_BODY_att', 'avg_BODY_landed',\r\n",
        "       'avg_CLINCH_att', 'avg_CLINCH_landed', 'avg_DISTANCE_att',\r\n",
        "       'avg_DISTANCE_landed', 'avg_GROUND_att', 'avg_GROUND_landed',\r\n",
        "       'avg_HEAD_att', 'avg_HEAD_landed', 'avg_KD', 'avg_LEG_att',\r\n",
        "       'avg_LEG_landed', 'avg_PASS', 'avg_REV', 'avg_SIG_STR__att',\r\n",
        "       'avg_SIG_STR__landed', 'avg_SIG_STR__pct', 'avg_SUB_ATT', 'avg_TOTAL_STR__att',\r\n",
        "       'avg_TOTAL_STR__landed', 'longest_streak', 'losses', 'avg_opp_BODY_att',\r\n",
        "       'avg_opp_BODY_landed', 'avg_opp_CLINCH_att', 'avg_opp_CLINCH_landed',\r\n",
        "       'avg_opp_DISTANCE_att', 'avg_opp_DISTANCE_landed', 'avg_opp_GROUND_att',\r\n",
        "       'avg_opp_GROUND_landed', 'avg_opp_HEAD_att', 'avg_opp_HEAD_landed',\r\n",
        "       'avg_opp_KD', 'avg_opp_LEG_att', 'avg_opp_LEG_landed', 'avg_opp_PASS',\r\n",
        "       'avg_opp_REV', 'avg_opp_SIG_STR__att', 'avg_opp_SIG_STR__landed',\r\n",
        "       'avg_opp_SIG_STR__pct', 'avg_opp_SUB_ATT', 'avg_opp_TD_att',\r\n",
        "       'avg_opp_TD_landed', 'avg_opp_TD_pct', 'avg_opp_TOTAL_STR__att',\r\n",
        "       'avg_opp_TOTAL_STR__landed', 'total_rounds_fought',\r\n",
        "       'total_time_fought(seconds)', 'total_title_bouts',\r\n",
        "       'by_Decision_Majority', 'by_Decision_Split', 'by_Decision_Unanimous',\r\n",
        "       'by_KO/TKO', 'by_Submission', 'by_TKO_Doctor_Stoppage', 'wins','avg_TD_pct',\r\n",
        "       'Stance', 'Height_cms', 'Reach_cms',  'age', 'Weight_lbs'], axis=1)"
      ],
      "execution_count": null,
      "outputs": []
    },
    {
      "cell_type": "markdown",
      "metadata": {
        "id": "E2AJK5cHYs3g"
      },
      "source": [
        "Create new dataframe that only contains the necessary variables to measure takedown variables"
      ]
    },
    {
      "cell_type": "code",
      "metadata": {
        "colab": {
          "base_uri": "https://localhost:8080/"
        },
        "id": "CWak7PSWBIGg",
        "outputId": "2647d14a-1515-43c9-bd98-19e7a895fab7"
      },
      "source": [
        "takedowns.info()"
      ],
      "execution_count": null,
      "outputs": [
        {
          "output_type": "stream",
          "text": [
            "<class 'pandas.core.frame.DataFrame'>\n",
            "RangeIndex: 8241 entries, 0 to 8240\n",
            "Data columns (total 5 columns):\n",
            " #   Column                   Non-Null Count  Dtype  \n",
            "---  ------                   --------------  -----  \n",
            " 0   avg_TD_att               8241 non-null   float64\n",
            " 1   avg_TD_landed            8241 non-null   float64\n",
            " 2   is_winner                8241 non-null   uint8  \n",
            " 3   winsorize_avg_TD_landed  8241 non-null   float64\n",
            " 4   winsorize_avg_TD_att     8241 non-null   float64\n",
            "dtypes: float64(4), uint8(1)\n",
            "memory usage: 265.7 KB\n"
          ],
          "name": "stdout"
        }
      ]
    },
    {
      "cell_type": "code",
      "metadata": {
        "colab": {
          "base_uri": "https://localhost:8080/",
          "height": 298
        },
        "id": "7hl6WGH0BsFA",
        "outputId": "99927e00-aaf0-4a80-80ca-ff45e651ad92"
      },
      "source": [
        "plt.subplot(1,2,1)\r\n",
        "plt.boxplot(takedowns['avg_TD_att'])\r\n",
        "plt.title('Takedowns Attempted')\r\n",
        "\r\n",
        "plt.subplot(1,2,2)\r\n",
        "plt.boxplot(takedowns['avg_TD_landed'])\r\n",
        "plt.title('Takedowns Landed')"
      ],
      "execution_count": null,
      "outputs": [
        {
          "output_type": "execute_result",
          "data": {
            "text/plain": [
              "Text(0.5, 1.0, 'Takedowns Landed')"
            ]
          },
          "metadata": {
            "tags": []
          },
          "execution_count": 10
        },
        {
          "output_type": "display_data",
          "data": {
            "image/png": "[encoded data removed]",
            "text/plain": [
              "<Figure size 432x288 with 2 Axes>"
            ]
          },
          "metadata": {
            "tags": [],
            "needs_background": "light"
          }
        }
      ]
    },
    {
      "cell_type": "code",
      "metadata": {
        "id": "2u-lq2FFDJHH"
      },
      "source": [
        "takedowns['winsorize_avg_TD_att'] = winsorize(takedowns['avg_TD_att'], (0, 0.04))\r\n",
        "takedowns['winsorize_avg_TD_landed'] = winsorize(takedowns['avg_TD_landed'], (0, 0.03))"
      ],
      "execution_count": null,
      "outputs": []
    },
    {
      "cell_type": "markdown",
      "metadata": {
        "id": "z6uLSkmteEd9"
      },
      "source": [
        "Winsorize variables to remove outliers."
      ]
    },
    {
      "cell_type": "code",
      "metadata": {
        "colab": {
          "base_uri": "https://localhost:8080/",
          "height": 298
        },
        "id": "3x8NoeHBEFXf",
        "outputId": "0c960ad5-3428-415c-b691-0564786832c1"
      },
      "source": [
        "plt.subplot(1,2,1)\r\n",
        "plt.boxplot(takedowns['winsorize_avg_TD_att'])\r\n",
        "plt.title('Takedowns Attempted')\r\n",
        "\r\n",
        "plt.subplot(1,2,2)\r\n",
        "plt.boxplot(takedowns['winsorize_avg_TD_landed'])\r\n",
        "plt.title('Takedowns Landed')"
      ],
      "execution_count": null,
      "outputs": [
        {
          "output_type": "execute_result",
          "data": {
            "text/plain": [
              "Text(0.5, 1.0, 'Takedowns Landed')"
            ]
          },
          "metadata": {
            "tags": []
          },
          "execution_count": 41
        },
        {
          "output_type": "display_data",
          "data": {
            "image/png": "[encoded data removed]",
            "text/plain": [
              "<Figure size 432x288 with 2 Axes>"
            ]
          },
          "metadata": {
            "tags": [],
            "needs_background": "light"
          }
        }
      ]
    },
    {
      "cell_type": "code",
      "metadata": {
        "colab": {
          "base_uri": "https://localhost:8080/",
          "height": 312
        },
        "id": "t-AnNJaMGeT7",
        "outputId": "b995dc5c-5132-47f6-9524-47c04a370185"
      },
      "source": [
        "plt.subplot(1,2,1)\r\n",
        "plt.scatter(takedowns[takedowns['is_winner']==1].winsorize_avg_TD_att,\r\n",
        "            takedowns[takedowns['is_winner']==1].winsorize_avg_TD_landed)\r\n",
        "plt.title('Wins')\r\n",
        "plt.xlabel('Takedown Attempts')\r\n",
        "plt.ylabel('Takedowns Landed')\r\n",
        "\r\n",
        "plt.subplot(1,2,2)\r\n",
        "plt.scatter(takedowns[takedowns['is_winner']==0].winsorize_avg_TD_att,\r\n",
        "            takedowns[takedowns['is_winner']==0].winsorize_avg_TD_landed)\r\n",
        "plt.title('Losses')\r\n",
        "plt.xlabel('Takedown Attempts')"
      ],
      "execution_count": null,
      "outputs": [
        {
          "output_type": "execute_result",
          "data": {
            "text/plain": [
              "Text(0.5, 0, 'Takedown Attempts')"
            ]
          },
          "metadata": {
            "tags": []
          },
          "execution_count": 107
        },
        {
          "output_type": "display_data",
          "data": {
            "image/png": "[encoded data removed]",
            "text/plain": [
              "<Figure size 432x288 with 2 Axes>"
            ]
          },
          "metadata": {
            "tags": [],
            "needs_background": "light"
          }
        }
      ]
    },
    {
      "cell_type": "markdown",
      "metadata": {
        "id": "w_QZPRWkQep0"
      },
      "source": [
        "The takedown attempts and success of both winning and losing fighters looks somewhat similiar but there is some more density that leans toward the takedowns landed on the Wins graph. \r\n",
        "\r\n",
        "Takedowns are attempted 18% more often and landed 22% more often by winning fighters so even though the graphs are not dramatically different, it is still important to investigate the takedown mix of winning fighters."
      ]
    },
    {
      "cell_type": "code",
      "metadata": {
        "colab": {
          "base_uri": "https://localhost:8080/",
          "height": 204
        },
        "id": "nbCtkIDMJY8t",
        "outputId": "c4ba58a8-ffbb-4de6-a6e9-e48292e1e41d"
      },
      "source": [
        "takedowns.corr()"
      ],
      "execution_count": null,
      "outputs": [
        {
          "output_type": "execute_result",
          "data": {
            "text/html": [
              "<div>\n",
              "<style scoped>\n",
              "    .dataframe tbody tr th:only-of-type {\n",
              "        vertical-align: middle;\n",
              "    }\n",
              "\n",
              "    .dataframe tbody tr th {\n",
              "        vertical-align: top;\n",
              "    }\n",
              "\n",
              "    .dataframe thead th {\n",
              "        text-align: right;\n",
              "    }\n",
              "</style>\n",
              "<table border=\"1\" class=\"dataframe\">\n",
              "  <thead>\n",
              "    <tr style=\"text-align: right;\">\n",
              "      <th></th>\n",
              "      <th>avg_TD_att</th>\n",
              "      <th>avg_TD_landed</th>\n",
              "      <th>is_winner</th>\n",
              "      <th>winsorize_avg_TD_att</th>\n",
              "      <th>winsorize_avg_TD_landed</th>\n",
              "    </tr>\n",
              "  </thead>\n",
              "  <tbody>\n",
              "    <tr>\n",
              "      <th>avg_TD_att</th>\n",
              "      <td>1.000000</td>\n",
              "      <td>0.806818</td>\n",
              "      <td>0.058441</td>\n",
              "      <td>0.968308</td>\n",
              "      <td>0.799863</td>\n",
              "    </tr>\n",
              "    <tr>\n",
              "      <th>avg_TD_landed</th>\n",
              "      <td>0.806818</td>\n",
              "      <td>1.000000</td>\n",
              "      <td>0.072816</td>\n",
              "      <td>0.813337</td>\n",
              "      <td>0.973957</td>\n",
              "    </tr>\n",
              "    <tr>\n",
              "      <th>is_winner</th>\n",
              "      <td>0.058441</td>\n",
              "      <td>0.072816</td>\n",
              "      <td>1.000000</td>\n",
              "      <td>0.057350</td>\n",
              "      <td>0.071219</td>\n",
              "    </tr>\n",
              "    <tr>\n",
              "      <th>winsorize_avg_TD_att</th>\n",
              "      <td>0.968308</td>\n",
              "      <td>0.813337</td>\n",
              "      <td>0.057350</td>\n",
              "      <td>1.000000</td>\n",
              "      <td>0.832899</td>\n",
              "    </tr>\n",
              "    <tr>\n",
              "      <th>winsorize_avg_TD_landed</th>\n",
              "      <td>0.799863</td>\n",
              "      <td>0.973957</td>\n",
              "      <td>0.071219</td>\n",
              "      <td>0.832899</td>\n",
              "      <td>1.000000</td>\n",
              "    </tr>\n",
              "  </tbody>\n",
              "</table>\n",
              "</div>"
            ],
            "text/plain": [
              "                         avg_TD_att  ...  winsorize_avg_TD_landed\n",
              "avg_TD_att                 1.000000  ...                 0.799863\n",
              "avg_TD_landed              0.806818  ...                 0.973957\n",
              "is_winner                  0.058441  ...                 0.071219\n",
              "winsorize_avg_TD_att       0.968308  ...                 0.832899\n",
              "winsorize_avg_TD_landed    0.799863  ...                 1.000000\n",
              "\n",
              "[5 rows x 5 columns]"
            ]
          },
          "metadata": {
            "tags": []
          },
          "execution_count": 108
        }
      ]
    },
    {
      "cell_type": "code",
      "metadata": {
        "id": "ZSnL1iMyJadl"
      },
      "source": [
        ""
      ],
      "execution_count": null,
      "outputs": []
    },
    {
      "cell_type": "markdown",
      "metadata": {
        "id": "Z_gssHuXIlqU"
      },
      "source": [
        "#Logistic Regression"
      ]
    },
    {
      "cell_type": "code",
      "metadata": {
        "colab": {
          "base_uri": "https://localhost:8080/"
        },
        "id": "22tagVoXFDqy",
        "outputId": "0fa5a208-948b-42c2-ef47-ddc81857bfe6"
      },
      "source": [
        "Y = takedowns['is_winner']\r\n",
        "X = takedowns[['winsorize_avg_TD_att', 'winsorize_avg_TD_landed']]\r\n",
        "\r\n",
        "X_train, X_test, Y_train, Y_test = train_test_split(X, Y, test_size=0.2)\r\n",
        "\r\n",
        "lrm = linear_model.LogisticRegression()\r\n",
        "lrm.fit(X_train, Y_train)\r\n",
        "\r\n",
        "preds_lrm = lrm.predict(X_test)\r\n",
        "confusion_lrm = confusion_matrix(Y_test, preds_lrm, labels=[1, 0])\r\n",
        "print(confusion_lrm)\r\n",
        "\r\n",
        "accuracy_lrm = accuracy_score(Y_test, preds_lrm)\r\n",
        "precision_lrm = precision_score(Y_test, preds_lrm)\r\n",
        "recall_lrm = recall_score(Y_test, preds_lrm)\r\n",
        "\r\n",
        "print('lrm Accuracy: ', accuracy_lrm)\r\n",
        "print('lrm Precision: ', precision_lrm)\r\n",
        "print('lrm Recall: ', recall_lrm)"
      ],
      "execution_count": null,
      "outputs": [
        {
          "output_type": "stream",
          "text": [
            "[[458 368]\n",
            " [450 373]]\n",
            "lrm Accuracy:  0.5039417828987265\n",
            "lrm Precision:  0.5044052863436124\n",
            "lrm Recall:  0.5544794188861986\n"
          ],
          "name": "stdout"
        }
      ]
    },
    {
      "cell_type": "markdown",
      "metadata": {
        "id": "dNlxl7KITec5"
      },
      "source": [
        "A Regression model has a low Adj. R-squared so it does not look to be a good model. Also, the variables are highly correlated at 83% so it does not meet the conditions of Linear Regression."
      ]
    },
    {
      "cell_type": "markdown",
      "metadata": {
        "id": "TOjLH0GiI9YU"
      },
      "source": [
        "## KNN"
      ]
    },
    {
      "cell_type": "code",
      "metadata": {
        "colab": {
          "base_uri": "https://localhost:8080/"
        },
        "id": "hvQnN3tZI_qw",
        "outputId": "23a88a53-7f83-4f6f-b23b-1655577cf081"
      },
      "source": [
        "neighbors= KNeighborsClassifier(n_neighbors=45, weights='distance')\r\n",
        "neighbors.fit(X_train,Y_train)\r\n",
        "\r\n",
        "preds_neighbors = neighbors.predict(X_test)\r\n",
        "confusion_neighbors = confusion_matrix(Y_test, preds_neighbors, labels=[1, 0])\r\n",
        "print(confusion_neighbors)\r\n",
        "\r\n",
        "accuracy_neighbors = accuracy_score(Y_test, preds_neighbors)\r\n",
        "precision_neighbors = precision_score(Y_test, preds_neighbors)\r\n",
        "recall_neighbors = recall_score(Y_test, preds_neighbors)\r\n",
        "\r\n",
        "print('KNN Accuracy: ', accuracy_neighbors)\r\n",
        "print('KNN Precision: ', precision_neighbors)\r\n",
        "print('KNN Recall: ', recall_neighbors)"
      ],
      "execution_count": null,
      "outputs": [
        {
          "output_type": "stream",
          "text": [
            "[[477 349]\n",
            " [467 356]]\n",
            "KNN Accuracy:  0.5051546391752577\n",
            "KNN Precision:  0.5052966101694916\n",
            "KNN Recall:  0.5774818401937046\n"
          ],
          "name": "stdout"
        }
      ]
    },
    {
      "cell_type": "markdown",
      "metadata": {
        "id": "1uHQcCXjyIoP"
      },
      "source": [
        "#Random Forest"
      ]
    },
    {
      "cell_type": "code",
      "metadata": {
        "colab": {
          "base_uri": "https://localhost:8080/"
        },
        "id": "SxEfhzLchUjp",
        "outputId": "09109d5d-9266-4e73-a40a-63ca73fce8e5"
      },
      "source": [
        "rfc = ensemble.RandomForestClassifier()\r\n",
        "\r\n",
        "rfc.fit(X_train, Y_train)\r\n",
        "preds_rfc = rfc.predict(X_test)\r\n",
        "confusion_rfc = confusion_matrix(Y_test, preds_rfc, labels=[1, 0])\r\n",
        "print(confusion_rfc)\r\n",
        "\r\n",
        "accuracy_rfc = accuracy_score(Y_test, preds_rfc)\r\n",
        "precision_rfc = precision_score(Y_test, preds_rfc)\r\n",
        "recall_rfc = recall_score(Y_test, preds_rfc)\r\n",
        "\r\n",
        "print('rfc Accuracy: ', accuracy_rfc)\r\n",
        "print('rfc Precision: ', precision_rfc)\r\n",
        "print('rfc Recall: ', recall_rfc)"
      ],
      "execution_count": null,
      "outputs": [
        {
          "output_type": "stream",
          "text": [
            "[[406 420]\n",
            " [386 437]]\n",
            "rfc Accuracy:  0.5112189205579138\n",
            "rfc Precision:  0.5126262626262627\n",
            "rfc Recall:  0.4915254237288136\n"
          ],
          "name": "stdout"
        }
      ]
    },
    {
      "cell_type": "markdown",
      "metadata": {
        "id": "pjRJEPbMWPVR"
      },
      "source": [
        "#Support Vector"
      ]
    },
    {
      "cell_type": "code",
      "metadata": {
        "colab": {
          "base_uri": "https://localhost:8080/"
        },
        "id": "rSrClYgjWR-q",
        "outputId": "b7207a08-0030-4b11-bbf5-9e5bbccfa306"
      },
      "source": [
        "svm =SVC()\r\n",
        "svm.fit(X_train, Y_train)\r\n",
        "preds_svm = svm.predict(X_test)\r\n",
        "confusion_svm = confusion_matrix(Y_test, preds_svm, labels=[1, 0])\r\n",
        "print(confusion_svm)\r\n",
        "\r\n",
        "accuracy_svm = accuracy_score(Y_test, preds_svm)\r\n",
        "precision_svm = precision_score(Y_test, preds_svm)\r\n",
        "recall_svm = recall_score(Y_test, preds_svm)\r\n",
        "\r\n",
        "print('svm Accuracy: ', accuracy_svm)\r\n",
        "print('svm Precision: ', precision_svm)\r\n",
        "print('svm Recall: ', recall_svm)"
      ],
      "execution_count": null,
      "outputs": [
        {
          "output_type": "stream",
          "text": [
            "[[482 344]\n",
            " [460 363]]\n",
            "svm Accuracy:  0.5124317768344451\n",
            "svm Precision:  0.5116772823779193\n",
            "svm Recall:  0.5835351089588378\n"
          ],
          "name": "stdout"
        }
      ]
    },
    {
      "cell_type": "markdown",
      "metadata": {
        "id": "tBTbi8hsnES8"
      },
      "source": [
        "# Gradient Boosting"
      ]
    },
    {
      "cell_type": "code",
      "metadata": {
        "id": "SE-h3cPknG6f",
        "colab": {
          "base_uri": "https://localhost:8080/"
        },
        "outputId": "30b1e752-9a48-4e11-97f4-827a3cd396a1"
      },
      "source": [
        "gbm = ensemble.GradientBoostingClassifier(n_estimators=34, loss='exponential')\r\n",
        "gbm.fit(X_train, Y_train)\r\n",
        "preds_gbm = gbm.predict(X_test)\r\n",
        "confusion_gbm = confusion_matrix(Y_test, preds_gbm, labels=[1, 0])\r\n",
        "print(confusion_gbm)\r\n",
        "\r\n",
        "accuracy_gbm = accuracy_score(Y_test, preds_gbm)\r\n",
        "precision_gbm = precision_score(Y_test, preds_gbm)\r\n",
        "recall_gbm = recall_score(Y_test, preds_gbm)\r\n",
        "\r\n",
        "print('gbm Accuracy: ', accuracy_gbm)\r\n",
        "print('gbm Precision: ', precision_gbm)\r\n",
        "print('gbm Recall: ', recall_gbm)"
      ],
      "execution_count": null,
      "outputs": [
        {
          "output_type": "stream",
          "text": [
            "[[467 359]\n",
            " [444 379]]\n",
            "gbm Accuracy:  0.5130382049727107\n",
            "gbm Precision:  0.5126234906695939\n",
            "gbm Recall:  0.5653753026634383\n"
          ],
          "name": "stdout"
        }
      ]
    },
    {
      "cell_type": "markdown",
      "metadata": {
        "id": "_M2bNB8G_6To"
      },
      "source": [
        "# Model Comparision"
      ]
    },
    {
      "cell_type": "code",
      "metadata": {
        "colab": {
          "base_uri": "https://localhost:8080/"
        },
        "id": "ah6GK0KjuFQM",
        "outputId": "1312217f-4804-4ab6-c3a6-06091e7d5e35"
      },
      "source": [
        "print('lrm Accuracy: ', accuracy_lrm)\r\n",
        "print('lrm Precision: ', precision_lrm)\r\n",
        "print('lrm Recall: ', recall_lrm)\r\n",
        "print(' ')\r\n",
        "print('KNN Accuracy: ', accuracy_neighbors)\r\n",
        "print('KNN Precision: ', precision_neighbors)\r\n",
        "print('KNN Recall: ', recall_neighbors)\r\n",
        "print(' ')\r\n",
        "print('rfc Accuracy: ', accuracy_rfc)\r\n",
        "print('rfc Precision: ', precision_rfc)\r\n",
        "print('rfc Recall: ', recall_rfc)\r\n",
        "print(' ')\r\n",
        "print('svm Accuracy: ', accuracy_svm)\r\n",
        "print('svm Precision: ', precision_svm)\r\n",
        "print('svm Recall: ', recall_svm)\r\n",
        "print(' ')\r\n",
        "print('gbm Accuracy: ', accuracy_gbm)\r\n",
        "print('gbm Precision: ', precision_gbm)\r\n",
        "print('gbm Recall: ', recall_gbm)"
      ],
      "execution_count": null,
      "outputs": [
        {
          "output_type": "stream",
          "text": [
            "lrm Accuracy:  0.5039417828987265\n",
            "lrm Precision:  0.5044052863436124\n",
            "lrm Recall:  0.5544794188861986\n",
            " \n",
            "KNN Accuracy:  0.5100060642813826\n",
            "KNN Precision:  0.5108225108225108\n",
            "KNN Recall:  0.43013365735115433\n",
            " \n",
            "rfc Accuracy:  0.5112189205579138\n",
            "rfc Precision:  0.5126262626262627\n",
            "rfc Recall:  0.4915254237288136\n",
            " \n",
            "svm Accuracy:  0.5124317768344451\n",
            "svm Precision:  0.5116772823779193\n",
            "svm Recall:  0.5835351089588378\n",
            " \n",
            "gbm Accuracy:  0.5130382049727107\n",
            "gbm Precision:  0.5126234906695939\n",
            "gbm Recall:  0.5653753026634383\n"
          ],
          "name": "stdout"
        }
      ]
    },
    {
      "cell_type": "markdown",
      "metadata": {
        "id": "ZVPR5vZQ_-K8"
      },
      "source": [
        "# Next Steps"
      ]
    },
    {
      "cell_type": "code",
      "metadata": {
        "colab": {
          "base_uri": "https://localhost:8080/"
        },
        "id": "pHzU4IneAAJ_",
        "outputId": "45b929e0-cc13-4ac9-dd0c-4cd4b689975e"
      },
      "source": [
        "ufc_wins.columns.unique()"
      ],
      "execution_count": null,
      "outputs": [
        {
          "output_type": "execute_result",
          "data": {
            "text/plain": [
              "Index(['Fighter', 'Win_Lose', 'Referee', 'date', 'location', 'Winner',\n",
              "       'title_bout', 'weight_class', 'no_of_rounds', 'current_lose_streak',\n",
              "       'current_streak', 'draw', 'avg_BODY_att', 'avg_BODY_landed',\n",
              "       'avg_CLINCH_att', 'avg_CLINCH_landed', 'avg_DISTANCE_att',\n",
              "       'avg_DISTANCE_landed', 'avg_GROUND_att', 'avg_GROUND_landed',\n",
              "       'avg_HEAD_att', 'avg_HEAD_landed', 'avg_KD', 'avg_LEG_att',\n",
              "       'avg_LEG_landed', 'avg_PASS', 'avg_REV', 'avg_SIG_STR__att',\n",
              "       'avg_SIG_STR__landed', 'avg_SIG_STR__pct', 'avg_SUB_ATT', 'avg_TD_att',\n",
              "       'avg_TD_landed', 'avg_TD_pct', 'avg_TOTAL_STR__att',\n",
              "       'avg_TOTAL_STR__landed', 'longest_streak', 'losses', 'avg_opp_BODY_att',\n",
              "       'avg_opp_BODY_landed', 'avg_opp_CLINCH_att', 'avg_opp_CLINCH_landed',\n",
              "       'avg_opp_DISTANCE_att', 'avg_opp_DISTANCE_landed', 'avg_opp_GROUND_att',\n",
              "       'avg_opp_GROUND_landed', 'avg_opp_HEAD_att', 'avg_opp_HEAD_landed',\n",
              "       'avg_opp_KD', 'avg_opp_LEG_att', 'avg_opp_LEG_landed', 'avg_opp_PASS',\n",
              "       'avg_opp_REV', 'avg_opp_SIG_STR__att', 'avg_opp_SIG_STR__landed',\n",
              "       'avg_opp_SIG_STR__pct', 'avg_opp_SUB_ATT', 'avg_opp_TD_att',\n",
              "       'avg_opp_TD_landed', 'avg_opp_TD_pct', 'avg_opp_TOTAL_STR__att',\n",
              "       'avg_opp_TOTAL_STR__landed', 'total_rounds_fought',\n",
              "       'total_time_fought(seconds)', 'total_title_bouts',\n",
              "       'by_Decision_Majority', 'by_Decision_Split', 'by_Decision_Unanimous',\n",
              "       'by_KO/TKO', 'by_Submission', 'by_TKO_Doctor_Stoppage', 'wins',\n",
              "       'Stance', 'Height_cms', 'Reach_cms', 'Weight_lbs', 'age', 'is_winner'],\n",
              "      dtype='object')"
            ]
          },
          "metadata": {
            "tags": []
          },
          "execution_count": 78
        }
      ]
    },
    {
      "cell_type": "code",
      "metadata": {
        "id": "sCeBZtjRAD8o"
      },
      "source": [
        "ufc_wins['winsorize_avg_TD_landed'] = winsorize(ufc_wins['avg_TD_landed'], (0, 0.04))\r\n",
        "ufc_wins['winsorize_avg_TD_att'] = winsorize(ufc_wins['avg_TD_att'], (0, 0.03))"
      ],
      "execution_count": null,
      "outputs": []
    },
    {
      "cell_type": "code",
      "metadata": {
        "colab": {
          "base_uri": "https://localhost:8080/",
          "height": 723
        },
        "id": "JaaJblk0JLwE",
        "outputId": "ae1e9410-8647-4007-fcf0-178080a2d977"
      },
      "source": [
        "plt.figure(figsize= (12,10))\r\n",
        "\r\n",
        "plt.subplot(2,4,1)\r\n",
        "plt.scatter(ufc_wins[(ufc_wins.is_winner == 1) & (ufc_wins.weight_class == 'Bantamweight')].winsorize_avg_TD_att,\r\n",
        "            ufc_wins[(ufc_wins.is_winner == 1) & (ufc_wins.weight_class == 'Bantamweight')].winsorize_avg_TD_landed)\r\n",
        "plt.title('Banthomweight TD Wins')\r\n",
        "plt.xlabel('Takedown Attempts')\r\n",
        "plt.ylabel('Takedowns Landed')\r\n",
        "plt.yticks(range(0,5,1))\r\n",
        "plt.xticks(range(0,10,2))\r\n",
        "\r\n",
        "plt.subplot(2,4,2)\r\n",
        "plt.scatter(ufc_wins[(ufc_wins.is_winner == 1) & (ufc_wins.weight_class == 'Featherweight')].winsorize_avg_TD_att,\r\n",
        "            ufc_wins[(ufc_wins.is_winner == 1) & (ufc_wins.weight_class == 'Featherweight')].winsorize_avg_TD_landed)\r\n",
        "plt.title('Featherweight TD Wins')\r\n",
        "plt.xlabel('Takedown Attempts')\r\n",
        "plt.ylabel('Takedowns Landed')\r\n",
        "plt.yticks(range(0,5,1))\r\n",
        "plt.xticks(range(0,10,2))\r\n",
        "\r\n",
        "plt.subplot(2,4,3)\r\n",
        "plt.scatter(ufc_wins[(ufc_wins.is_winner == 1) & (ufc_wins.weight_class == 'Lightweight')].winsorize_avg_TD_att,\r\n",
        "            ufc_wins[(ufc_wins.is_winner == 1) & (ufc_wins.weight_class == 'Lightweight')].winsorize_avg_TD_landed)\r\n",
        "plt.title('Lightweight TD Wins')\r\n",
        "plt.xlabel('Takedown Attempts')\r\n",
        "plt.ylabel('Takedowns Landed')\r\n",
        "plt.yticks(range(0,5,1))\r\n",
        "plt.xticks(range(0,10,2))\r\n",
        "\r\n",
        "plt.subplot(2,4,4)\r\n",
        "plt.scatter(ufc_wins[(ufc_wins.is_winner == 1) & (ufc_wins.weight_class == 'Welterweight')].winsorize_avg_TD_att,\r\n",
        "            ufc_wins[(ufc_wins.is_winner == 1) & (ufc_wins.weight_class == 'Welterweight')].winsorize_avg_TD_landed)\r\n",
        "plt.title('Welterweight TD Wins')\r\n",
        "plt.xlabel('Takedown Attempts')\r\n",
        "plt.ylabel('Takedowns Landed')\r\n",
        "plt.yticks(range(0,5,1))\r\n",
        "plt.xticks(range(0,10,2))\r\n",
        "\r\n",
        "plt.subplot(2,4,5)\r\n",
        "plt.scatter(ufc_wins[(ufc_wins.is_winner == 1) & (ufc_wins.weight_class == 'Middleweight')].winsorize_avg_TD_att,\r\n",
        "            ufc_wins[(ufc_wins.is_winner == 1) & (ufc_wins.weight_class == 'Middleweight')].winsorize_avg_TD_landed)\r\n",
        "plt.title('Middleweight TD Wins')\r\n",
        "plt.xlabel('Takedown Attempts')\r\n",
        "plt.ylabel('Takedowns Landed')\r\n",
        "plt.yticks(range(0,5,1))\r\n",
        "plt.xticks(range(0,10,2))\r\n",
        "\r\n",
        "plt.subplot(2,4,6)\r\n",
        "plt.scatter(ufc_wins[(ufc_wins.is_winner == 1) & (ufc_wins.weight_class == 'Light Heavyweight')].winsorize_avg_TD_att,\r\n",
        "            ufc_wins[(ufc_wins.is_winner == 1) & (ufc_wins.weight_class == 'Light Heavyweight')].winsorize_avg_TD_landed)\r\n",
        "plt.title('Light Heavyweight TD Wins')\r\n",
        "plt.xlabel('Takedown Attempts')\r\n",
        "plt.ylabel('Takedowns Landed')\r\n",
        "plt.yticks(range(0,5,1))\r\n",
        "plt.xticks(range(0,10,2))\r\n",
        "\r\n",
        "plt.subplot(2,4,7)\r\n",
        "plt.scatter(ufc_wins[(ufc_wins.is_winner == 1) & (ufc_wins.weight_class == 'Heavyweight')].winsorize_avg_TD_att,\r\n",
        "            ufc_wins[(ufc_wins.is_winner == 1) & (ufc_wins.weight_class == 'Heavyweight')].winsorize_avg_TD_landed)\r\n",
        "plt.title('Heavyweight TD Wins')\r\n",
        "plt.xlabel('Takedown Attempts')\r\n",
        "plt.ylabel('Takedowns Landed')\r\n",
        "plt.yticks(range(0,5,1))\r\n",
        "plt.xticks(range(0,10,2))"
      ],
      "execution_count": null,
      "outputs": [
        {
          "output_type": "execute_result",
          "data": {
            "text/plain": [
              "([<matplotlib.axis.XTick at 0x7fb035142b38>,\n",
              "  <matplotlib.axis.XTick at 0x7fb035142b00>,\n",
              "  <matplotlib.axis.XTick at 0x7fb035142828>,\n",
              "  <matplotlib.axis.XTick at 0x7fb03517b240>,\n",
              "  <matplotlib.axis.XTick at 0x7fb03517b6d8>],\n",
              " <a list of 5 Text major ticklabel objects>)"
            ]
          },
          "metadata": {
            "tags": []
          },
          "execution_count": 163
        },
        {
          "output_type": "display_data",
          "data": {
            "image/png": "[encoded data removed]",
            "text/plain": [
              "<Figure size 864x720 with 7 Axes>"
            ]
          },
          "metadata": {
            "tags": [],
            "needs_background": "light"
          }
        }
      ]
    },
    {
      "cell_type": "code",
      "metadata": {
        "colab": {
          "base_uri": "https://localhost:8080/",
          "height": 723
        },
        "id": "66fksqaoSm7g",
        "outputId": "f931eeef-cc90-4115-c592-e06df2a2332d"
      },
      "source": [
        "plt.figure(figsize= (12,10))\r\n",
        "\r\n",
        "plt.subplot(2,2,1)\r\n",
        "plt.scatter(ufc_wins[(ufc_wins.is_winner == 1) & (ufc_wins.Fighter == 'Georges St-Pierre')].winsorize_avg_TD_att,\r\n",
        "            ufc_wins[(ufc_wins.is_winner == 1) & (ufc_wins.Fighter == 'Georges St-Pierre')].winsorize_avg_TD_landed)\r\n",
        "plt.title('Georges St-Pierre TD Wins')\r\n",
        "plt.xlabel('Takedown Attempts')\r\n",
        "plt.ylabel('Takedowns Landed')\r\n",
        "plt.yticks(range(0,5,1))\r\n",
        "plt.xticks(range(0,10,2))\r\n",
        "\r\n",
        "plt.subplot(2,2,2)\r\n",
        "plt.scatter(ufc_wins[(ufc_wins.is_winner == 1) & (ufc_wins.Fighter == 'Daniel Cormier')].winsorize_avg_TD_att,\r\n",
        "            ufc_wins[(ufc_wins.is_winner == 1) & (ufc_wins.Fighter == 'Daniel Cormier')].winsorize_avg_TD_landed)\r\n",
        "plt.title('Daniel Cormier TD Wins')\r\n",
        "plt.xlabel('Takedown Attempts')\r\n",
        "plt.ylabel('Takedowns Landed')\r\n",
        "plt.yticks(range(0,5,1))\r\n",
        "plt.xticks(range(0,10,2))\r\n",
        "\r\n",
        "plt.subplot(2,2,3)\r\n",
        "plt.scatter(ufc_wins[(ufc_wins.is_winner == 1) & (ufc_wins.Fighter == 'Dan Henderson')].winsorize_avg_TD_att,\r\n",
        "            ufc_wins[(ufc_wins.is_winner == 1) & (ufc_wins.Fighter == 'Dan Henderson')].winsorize_avg_TD_landed)\r\n",
        "plt.title('Dan Henderson TD Wins')\r\n",
        "plt.xlabel('Takedown Attempts')\r\n",
        "plt.ylabel('Takedowns Landed')\r\n",
        "plt.yticks(range(0,5,1))\r\n",
        "plt.xticks(range(0,10,2))\r\n",
        "\r\n",
        "plt.subplot(2,2,4)\r\n",
        "plt.scatter(ufc_wins[(ufc_wins.is_winner == 1) & (ufc_wins.Fighter == 'Matt Hughes')].winsorize_avg_TD_att,\r\n",
        "            ufc_wins[(ufc_wins.is_winner == 1) & (ufc_wins.Fighter == 'Matt Hughes')].winsorize_avg_TD_landed)\r\n",
        "plt.title('Matt Hughes TD Wins')\r\n",
        "plt.xlabel('Takedown Attempts')\r\n",
        "plt.ylabel('Takedowns Landed')\r\n",
        "plt.yticks(range(0,5,1))\r\n",
        "plt.xticks(range(0,10,2))"
      ],
      "execution_count": null,
      "outputs": [
        {
          "output_type": "execute_result",
          "data": {
            "text/plain": [
              "([<matplotlib.axis.XTick at 0x7fb034817ef0>,\n",
              "  <matplotlib.axis.XTick at 0x7fb034817eb8>,\n",
              "  <matplotlib.axis.XTick at 0x7fb034817be0>,\n",
              "  <matplotlib.axis.XTick at 0x7fb0347cf320>,\n",
              "  <matplotlib.axis.XTick at 0x7fb0347cf7b8>],\n",
              " <a list of 5 Text major ticklabel objects>)"
            ]
          },
          "metadata": {
            "tags": []
          },
          "execution_count": 176
        },
        {
          "output_type": "display_data",
          "data": {
            "image/png": "[encoded data removed]",
            "text/plain": [
              "<Figure size 864x720 with 4 Axes>"
            ]
          },
          "metadata": {
            "tags": [],
            "needs_background": "light"
          }
        }
      ]
    }
  ]
}